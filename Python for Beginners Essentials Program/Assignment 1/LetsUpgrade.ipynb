{
  "nbformat": 4,
  "nbformat_minor": 0,
  "metadata": {
    "colab": {
      "name": "LetsUpgrade",
      "provenance": []
    },
    "kernelspec": {
      "name": "python3",
      "display_name": "Python 3"
    },
    "language_info": {
      "name": "python"
    }
  },
  "cells": [
    {
      "cell_type": "markdown",
      "metadata": {
        "id": "Qk-2JQvybpcg"
      },
      "source": [
        "# Python for Beginners Essentials Program\n",
        "# Day 1"
      ]
    },
    {
      "cell_type": "code",
      "metadata": {
        "colab": {
          "base_uri": "https://localhost:8080/"
        },
        "id": "nVX2kqB7biJU",
        "outputId": "dc6a2ebf-1bdf-42e8-913c-853e31b4df6b"
      },
      "source": [
        "print(\"Hello World\")"
      ],
      "execution_count": null,
      "outputs": [
        {
          "output_type": "stream",
          "text": [
            "Hello World\n"
          ],
          "name": "stdout"
        }
      ]
    },
    {
      "cell_type": "code",
      "metadata": {
        "id": "BvCyJw1mb1qX"
      },
      "source": [
        "# Our First Project - Calculater \n",
        "\n",
        "#  Step 1 -> Perform Addition in Python\n",
        "#  Step 2 -> Store the Result in some Variable and show the results \n",
        "#  Step 3 -> Take user Input for Dinamic Addition"
      ],
      "execution_count": null,
      "outputs": []
    },
    {
      "cell_type": "code",
      "metadata": {
        "colab": {
          "base_uri": "https://localhost:8080/"
        },
        "id": "8YbSJLSfecS_",
        "outputId": "3ad81944-ac8d-4f0d-a1c0-3ad0fd0ff35e"
      },
      "source": [
        "A1 = int(input(\"First Number -\"))\n",
        "A2 = int(input(\"Second Number -\"))\n",
        "Addition = A1 + A2\n",
        "\n",
        "print(\"Addition of two Number is -\",Addition)"
      ],
      "execution_count": null,
      "outputs": [
        {
          "output_type": "stream",
          "text": [
            "First Number -30\n",
            "Second Number -12\n",
            "Addition of two Number is - 42\n"
          ],
          "name": "stdout"
        }
      ]
    },
    {
      "cell_type": "code",
      "metadata": {
        "colab": {
          "base_uri": "https://localhost:8080/"
        },
        "id": "91F-q8ije4Rr",
        "outputId": "dba103ee-f3ef-4398-be0f-9abfa33156f5"
      },
      "source": [
        "# Day - 1\n",
        "# Assignment - 1\n",
        "\n",
        "X = int(input(\"First Number -\"))\n",
        "Y = int(input(\"Second Number -\"))\n",
        "Addition = X + Y\n",
        "Sub = X - Y\n",
        "Multi = X * Y\n",
        "Dev = X / Y\n",
        "\n",
        "print(\"Addition of two Number is -\",Addition)\n",
        "print(\"Subtraction of two Number is -\",Sub)\n",
        "print(\"Multiplication of two Number is -\",Multi)\n",
        "print(\"Division of two Number is -\",Dev)"
      ],
      "execution_count": null,
      "outputs": [
        {
          "output_type": "stream",
          "text": [
            "First Number -25\n",
            "Second Number -5\n",
            "Addition of two Number is - 30\n",
            "Subtraction of two Number is - 20\n",
            "Multiplication of two Number is - 125\n",
            "Division of two Number is - 5.0\n"
          ],
          "name": "stdout"
        }
      ]
    },
    {
      "cell_type": "markdown",
      "metadata": {
        "id": "eQHeCy12t0GR"
      },
      "source": [
        "# Day 2 & 3"
      ]
    },
    {
      "cell_type": "code",
      "metadata": {
        "colab": {
          "base_uri": "https://localhost:8080/"
        },
        "id": "PRuDuwCXwdGM",
        "outputId": "10601fd1-3294-4544-c41a-2f5d1da6a3a5"
      },
      "source": [
        "# Lottery in Python\n",
        "\n",
        "Max_Tickets_Avalibale = 5\n",
        "\n",
        "Participant = [\"Pritam\",\"Riya\",\"Alice\",\"Aman\",\"Priyanka\"]\n",
        "\n",
        "import random\n",
        "\n",
        "N = random.randint(0,Max_Tickets_Avalibale-1)\n",
        "\n",
        "print(\"Wow\",Participants[N],\"won the Lottery\")"
      ],
      "execution_count": null,
      "outputs": [
        {
          "output_type": "stream",
          "text": [
            "Wow Riya won the Lottery\n"
          ],
          "name": "stdout"
        }
      ]
    },
    {
      "cell_type": "code",
      "metadata": {
        "colab": {
          "base_uri": "https://localhost:8080/"
        },
        "id": "bsTPjQNM_DH_",
        "outputId": "d6bfe786-373c-47a2-c1f5-33fe6847e8dc"
      },
      "source": [
        "# For Loop\n",
        "\n",
        "for I in range(10):\n",
        "  print(\"Python\")"
      ],
      "execution_count": null,
      "outputs": [
        {
          "output_type": "stream",
          "text": [
            "Python\n",
            "Python\n",
            "Python\n",
            "Python\n",
            "Python\n",
            "Python\n",
            "Python\n",
            "Python\n",
            "Python\n",
            "Python\n"
          ],
          "name": "stdout"
        }
      ]
    },
    {
      "cell_type": "code",
      "metadata": {
        "colab": {
          "base_uri": "https://localhost:8080/"
        },
        "id": "9KG1viVIyJOc",
        "outputId": "0220bb7d-4a01-4090-93b6-b6337c7d0424"
      },
      "source": [
        "# Day 3\n",
        "# Assignment - 2 \n",
        "\n",
        "# Get random names of the peaple in the list using For Loop, Maximum participant variable and imput() Function \n",
        "# and then get your Lottery Run\n",
        "\n",
        "import random\n",
        "\n",
        "Max_Tickets_Avalibales = int(input(\"Enter the Max number of Tickets Avalable -\"))\n",
        "\n",
        "Participants = []\n",
        "\n",
        "for I in range(Max_Tickets_Avalibales):\n",
        "  Name = str(input(\"Enter your name -\"))\n",
        "  Participants.append(Name)\n",
        "print(\"Participants -\",Participants)\n",
        "\n",
        "N = random.randint(0,Max_Tickets_Avalibales-1)\n",
        "\n",
        "print(\"Wow\",Participants[N],\"won the Lottery\")"
      ],
      "execution_count": null,
      "outputs": [
        {
          "output_type": "stream",
          "text": [
            "Enter the Max number of Tickets Avalable -5\n",
            "Enter your name -Pritam\n",
            "Enter your name -Riya\n",
            "Enter your name -Alice\n",
            "Enter your name -Aman\n",
            "Enter your name -Priyanka \n",
            "Participants - ['Pritam', 'Riya', 'Alice', 'Aman', 'Priyanka ']\n",
            "Wow Pritam won the Lottery\n"
          ],
          "name": "stdout"
        }
      ]
    },
    {
      "cell_type": "code",
      "metadata": {
        "colab": {
          "base_uri": "https://localhost:8080/"
        },
        "id": "R5_kFZP6taup",
        "outputId": "d0d7b17d-570b-4cc9-e632-e32ba4b4efd8"
      },
      "source": [
        "# Contact Book App in Python \n",
        "\n",
        "How_many_Contact = 2\n",
        "\n",
        "Contact_Details = {}\n",
        "\n",
        "for I in range(How_many_Contact):\n",
        "    Name = input(\"Ënter Name -\")\n",
        "    Number_1 = input(\"Ënter number -\")\n",
        "    Number_2 = input(\"Ënter another number -\")\n",
        "    Image = input(\"Ënter image -\")\n",
        "    Email = input(\"Ënter email -\")\n",
        "    Website = input(\"Ënter website -\")\n",
        "\n",
        "    Contact_Details[Name] = {\n",
        "        \"Name\":Name,\n",
        "        \"Number-1\":Number_1,\n",
        "        \"Number-2\":Number_2,\n",
        "        \"Image\":Image,\n",
        "        \"Email\":Email,\n",
        "        \"Website\":Website\n",
        "        }"
      ],
      "execution_count": 2,
      "outputs": [
        {
          "output_type": "stream",
          "text": [
            "Ënter Name -Pritam Poddar\n",
            "Ënter number -7003528019\n",
            "Ënter another number -N.A\n",
            "Ënter image -N.A\n",
            "Ënter email -psaikat36@gmail.com\n",
            "Ënter website -N.A\n",
            "Ënter Name -Ankita\n",
            "Ënter number -8016753483\n",
            "Ënter another number -N.A\n",
            "Ënter image -N.A\n",
            "Ënter email -Ankita@gmail.com\n",
            "Ënter website -N.A\n"
          ],
          "name": "stdout"
        }
      ]
    },
    {
      "cell_type": "markdown",
      "metadata": {
        "id": "q6ePN54iLs58"
      },
      "source": [
        "# Day 4\n",
        "\n",
        "\n",
        "1.   Tuple\n",
        "1.    Set\n",
        "1.    If Else, Elif\n",
        "1.    While loop\n",
        "1.     Function "
      ]
    },
    {
      "cell_type": "code",
      "metadata": {
        "colab": {
          "base_uri": "https://localhost:8080/"
        },
        "id": "-7F-GP7HLr_t",
        "outputId": "4b5dce00-2f37-4d99-a167-ccdd99d8f02b"
      },
      "source": [
        "# List\n",
        "\n",
        "L =[\"abc\",\"xyz\",\"xyz\",\"def\",\"def\",\"xyz\"]\n",
        "L"
      ],
      "execution_count": 5,
      "outputs": [
        {
          "output_type": "execute_result",
          "data": {
            "text/plain": [
              "['abc', 'xyz', 'xyz', 'def', 'def', 'xyz']"
            ]
          },
          "metadata": {
            "tags": []
          },
          "execution_count": 5
        }
      ]
    },
    {
      "cell_type": "code",
      "metadata": {
        "id": "irp1O3Dd_DNY",
        "colab": {
          "base_uri": "https://localhost:8080/"
        },
        "outputId": "30a874ef-6250-4ec2-c10d-8c5086309aa1"
      },
      "source": [
        "# To get unique values\n",
        "set(L)"
      ],
      "execution_count": 6,
      "outputs": [
        {
          "output_type": "execute_result",
          "data": {
            "text/plain": [
              "{'abc', 'def', 'xyz'}"
            ]
          },
          "metadata": {
            "tags": []
          },
          "execution_count": 6
        }
      ]
    },
    {
      "cell_type": "code",
      "metadata": {
        "id": "UQj942sa_DKu",
        "colab": {
          "base_uri": "https://localhost:8080/"
        },
        "outputId": "b3e32a5a-7e5b-4ed0-e83b-f77aa24853b9"
      },
      "source": [
        "# Tuple\n",
        "# Tuple will never chnage \n",
        "T = (\"Food\",\"Love\",\"Life\")\n",
        "T"
      ],
      "execution_count": 7,
      "outputs": [
        {
          "output_type": "execute_result",
          "data": {
            "text/plain": [
              "('Food', 'Love', 'Life')"
            ]
          },
          "metadata": {
            "tags": []
          },
          "execution_count": 7
        }
      ]
    },
    {
      "cell_type": "code",
      "metadata": {
        "id": "lGOfMYjyySnf",
        "colab": {
          "base_uri": "https://localhost:8080/"
        },
        "outputId": "5fae1301-c2e3-4957-f480-fac25a7036dc"
      },
      "source": [
        "# To check the Data type\n",
        "type(T)"
      ],
      "execution_count": 9,
      "outputs": [
        {
          "output_type": "execute_result",
          "data": {
            "text/plain": [
              "tuple"
            ]
          },
          "metadata": {
            "tags": []
          },
          "execution_count": 9
        }
      ]
    },
    {
      "cell_type": "code",
      "metadata": {
        "id": "7xkCTX_ryc2V",
        "colab": {
          "base_uri": "https://localhost:8080/"
        },
        "outputId": "8be1104a-4628-4114-e5f7-f98fe265db32"
      },
      "source": [
        "# If Else/Elif\n",
        "\n",
        "Dairy_Milk = 10\n",
        "\n",
        "In_Stock = 5\n",
        "\n",
        "if Dairy_Milk <= In_Stock:\n",
        "  print(\"Take the Dairy Milk\")\n",
        "else:\n",
        "  print(\"Take 5 Star, I dont have that much Dairy Milk in Stock\")"
      ],
      "execution_count": 18,
      "outputs": [
        {
          "output_type": "stream",
          "text": [
            "Take 5 Star, I dont have that much Dairy Milk in Stock\n"
          ],
          "name": "stdout"
        }
      ]
    },
    {
      "cell_type": "code",
      "metadata": {
        "id": "kCls4Tx_z0of",
        "colab": {
          "base_uri": "https://localhost:8080/"
        },
        "outputId": "3b16c5d6-0f98-46df-b257-07d017434b3c"
      },
      "source": [
        "Marks = int(input(\"Enter your marks -\"))\n",
        "\n",
        "if Marks > 75:\n",
        "  print(\"Your Grade is A\")\n",
        "elif Marks > 55 and  Marks < 75:\n",
        "  print(\"Your Grade is B\")\n",
        "else :\n",
        "  print(\"Your Grade is C\")"
      ],
      "execution_count": 27,
      "outputs": [
        {
          "output_type": "stream",
          "text": [
            "Enter your marks -98\n",
            "Your Grade is A\n"
          ],
          "name": "stdout"
        }
      ]
    },
    {
      "cell_type": "markdown",
      "metadata": {
        "id": "un12bfBFGAct"
      },
      "source": [
        "### Day 4\n",
        "## **Assignment 1** \n",
        "You all are plots you have to land a plane the altitude required for landing a plane is 1000F.if it is less than that tell plot to land the plane or it is more than that but less than 5000 ask the plot to 'come down to 1000'else if it is more than 5000'ask the plot to 'go around and try later'\n",
        "\n",
        "\n",
        "*   Example: Input - 1000 Output - Safe to land \n",
        "*   Example : Input - 4500 Output - Bring down to 1000 \n",
        "*   Example: Input - 6500 Output - Turn Around\n"
      ]
    },
    {
      "cell_type": "code",
      "metadata": {
        "id": "XoeLb8zn0HTf"
      },
      "source": [
        ""
      ],
      "execution_count": null,
      "outputs": []
    }
  ]
}