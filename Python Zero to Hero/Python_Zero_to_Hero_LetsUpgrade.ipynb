{
  "nbformat": 4,
  "nbformat_minor": 0,
  "metadata": {
    "colab": {
      "name": "Python Zero to Hero_LetsUpgrade",
      "provenance": [],
      "collapsed_sections": []
    },
    "kernelspec": {
      "name": "python3",
      "display_name": "Python 3"
    },
    "language_info": {
      "name": "python"
    }
  },
  "cells": [
    {
      "cell_type": "markdown",
      "metadata": {
        "id": "yh_BhfxLjEr3"
      },
      "source": [
        "## LetsUpgrade\n",
        "# Python Zero to Hero \n"
      ]
    },
    {
      "cell_type": "markdown",
      "metadata": {
        "id": "zMj6bv2KWHiB"
      },
      "source": [
        "### DAY-1"
      ]
    },
    {
      "cell_type": "code",
      "metadata": {
        "colab": {
          "base_uri": "https://localhost:8080/"
        },
        "id": "22rg0abMWP60",
        "outputId": "7ea7c3ef-6799-403d-a02b-15125e317987"
      },
      "source": [
        "\n",
        "''''''''''''''''''''''\n",
        "Welcome To Python\n",
        "''''''''''''''''''''''\n",
        "\n",
        "A = \"Hello World\"\n",
        "print(A)\n",
        "\n",
        "print(\"\"\"Hello LetsUpgrades\"\"\")"
      ],
      "execution_count": null,
      "outputs": [
        {
          "output_type": "stream",
          "text": [
            "Hello World\n",
            "Hello LetsUpgrades\n"
          ],
          "name": "stdout"
        }
      ]
    },
    {
      "cell_type": "code",
      "metadata": {
        "colab": {
          "base_uri": "https://localhost:8080/"
        },
        "id": "-Vyd1PhgaAy4",
        "outputId": "7e9dad1b-4702-4be8-bb4b-7832e8dab3c7"
      },
      "source": [
        "print(\"Hello\")\n",
        "print(\"Code\")\n",
        "\n",
        "print(\"Hello\", end=\"|\")\n",
        "print(\"Code\")\n",
        "\n",
        "print(\"Hello Code\")"
      ],
      "execution_count": null,
      "outputs": [
        {
          "output_type": "stream",
          "text": [
            "Hello\n",
            "Code\n",
            "Hello|Code\n",
            "Hello Code\n"
          ],
          "name": "stdout"
        }
      ]
    },
    {
      "cell_type": "code",
      "metadata": {
        "colab": {
          "base_uri": "https://localhost:8080/"
        },
        "id": "TO6oj4DQWP9X",
        "outputId": "64211964-75fe-4c99-9519-27ba9b3da95c"
      },
      "source": [
        "A = 20\n",
        "print(type(A))"
      ],
      "execution_count": null,
      "outputs": [
        {
          "output_type": "stream",
          "text": [
            "<class 'int'>\n"
          ],
          "name": "stdout"
        }
      ]
    },
    {
      "cell_type": "code",
      "metadata": {
        "colab": {
          "base_uri": "https://localhost:8080/"
        },
        "id": "Y-OGEMFDWP_8",
        "outputId": "17ce2e5e-fd6b-4f1c-ad75-1498bd1d9746"
      },
      "source": [
        "A = \"Pritam\"\n",
        "print(type(A))"
      ],
      "execution_count": null,
      "outputs": [
        {
          "output_type": "stream",
          "text": [
            "<class 'str'>\n"
          ],
          "name": "stdout"
        }
      ]
    },
    {
      "cell_type": "code",
      "metadata": {
        "colab": {
          "base_uri": "https://localhost:8080/"
        },
        "id": "Ef3t1rU5WQCl",
        "outputId": "25751cb9-f406-4cd4-ac46-86a816277e7c"
      },
      "source": [
        "A = \"$&%\"\n",
        "print(type(A))"
      ],
      "execution_count": null,
      "outputs": [
        {
          "output_type": "stream",
          "text": [
            "<class 'str'>\n"
          ],
          "name": "stdout"
        }
      ]
    },
    {
      "cell_type": "code",
      "metadata": {
        "id": "_fTfAzRYWQFC"
      },
      "source": [
        "X = 10\n",
        "Y = 20\n",
        "Z = 30"
      ],
      "execution_count": null,
      "outputs": []
    },
    {
      "cell_type": "code",
      "metadata": {
        "id": "lbpkEHnxWQHP"
      },
      "source": [
        "X, Y, Z = 10, 20, 30"
      ],
      "execution_count": null,
      "outputs": []
    },
    {
      "cell_type": "code",
      "metadata": {
        "colab": {
          "base_uri": "https://localhost:8080/"
        },
        "id": "39HxmIijWQJx",
        "outputId": "5ef2c979-aff0-45de-871d-43690c062087"
      },
      "source": [
        "X = Y = Z = 10\n",
        "print(X,Y,Z)"
      ],
      "execution_count": null,
      "outputs": [
        {
          "output_type": "stream",
          "text": [
            "10 10 10\n"
          ],
          "name": "stdout"
        }
      ]
    },
    {
      "cell_type": "code",
      "metadata": {
        "colab": {
          "base_uri": "https://localhost:8080/"
        },
        "id": "MpHQsn6LWQL-",
        "outputId": "46adf707-cd8a-4d49-ddaf-f8a882345d6b"
      },
      "source": [
        "id(X)"
      ],
      "execution_count": null,
      "outputs": [
        {
          "output_type": "execute_result",
          "data": {
            "text/plain": [
              "93900755311392"
            ]
          },
          "metadata": {
            "tags": []
          },
          "execution_count": 182
        }
      ]
    },
    {
      "cell_type": "code",
      "metadata": {
        "colab": {
          "base_uri": "https://localhost:8080/"
        },
        "id": "xlzuHQcRWQOF",
        "outputId": "79fc1038-1a14-45cd-a6af-01bb2485ba25"
      },
      "source": [
        "id(A)"
      ],
      "execution_count": null,
      "outputs": [
        {
          "output_type": "execute_result",
          "data": {
            "text/plain": [
              "140121075256624"
            ]
          },
          "metadata": {
            "tags": []
          },
          "execution_count": 183
        }
      ]
    },
    {
      "cell_type": "code",
      "metadata": {
        "colab": {
          "base_uri": "https://localhost:8080/"
        },
        "id": "HrbmrEvEWQQa",
        "outputId": "8112caf1-ee31-4f0c-9897-51b8fcde7b29"
      },
      "source": [
        "X = input(\"Enter First Value -\")\n",
        "Y = input(\"Enter Second Value -\")\n",
        "\n",
        "print(type(X),(type(Y)))\n",
        "\n",
        "print(X+Y)"
      ],
      "execution_count": null,
      "outputs": [
        {
          "output_type": "stream",
          "text": [
            "Enter First Value -12\n",
            "Enter Second Value -22\n",
            "<class 'str'> <class 'str'>\n",
            "1222\n"
          ],
          "name": "stdout"
        }
      ]
    },
    {
      "cell_type": "code",
      "metadata": {
        "colab": {
          "base_uri": "https://localhost:8080/"
        },
        "id": "qK0ktwjsWQbb",
        "outputId": "814ec92b-7572-4ee0-a8f8-1a3546ee629f"
      },
      "source": [
        "X = int(input(\"Enter First Value -\"))\n",
        "Y = int(input(\"Enter Second Value -\"))\n",
        "\n",
        "print(type(X),(type(Y)))\n",
        "\n",
        "print(X+Y)"
      ],
      "execution_count": null,
      "outputs": [
        {
          "output_type": "stream",
          "text": [
            "Enter First Value -12\n",
            "Enter Second Value -22\n",
            "<class 'int'> <class 'int'>\n",
            "34\n"
          ],
          "name": "stdout"
        }
      ]
    },
    {
      "cell_type": "code",
      "metadata": {
        "colab": {
          "base_uri": "https://localhost:8080/"
        },
        "id": "purEpGPKWQgO",
        "outputId": "8fdbec76-e412-4618-8c7d-32a02d390080"
      },
      "source": [
        "X = input(\"Enter First Value -\")\n",
        "\n",
        "print(type(X))\n",
        "\n",
        "print(X)"
      ],
      "execution_count": null,
      "outputs": [
        {
          "output_type": "stream",
          "text": [
            "Enter First Value -22\n",
            "<class 'str'>\n",
            "22\n"
          ],
          "name": "stdout"
        }
      ]
    },
    {
      "cell_type": "code",
      "metadata": {
        "colab": {
          "base_uri": "https://localhost:8080/"
        },
        "id": "BLYWV7sUWQi3",
        "outputId": "b6c56f63-9761-4d0a-fd4c-71196004d475"
      },
      "source": [
        "X = input(\"Enter First Value -\")\n",
        "\n",
        "print(type(X))\n",
        "\n",
        "S = X.split()\n",
        "\n",
        "print(S)"
      ],
      "execution_count": null,
      "outputs": [
        {
          "output_type": "stream",
          "text": [
            "Enter First Value -12 34 5 6 6 7 \n",
            "<class 'str'>\n",
            "['12', '34', '5', '6', '6', '7']\n"
          ],
          "name": "stdout"
        }
      ]
    },
    {
      "cell_type": "code",
      "metadata": {
        "colab": {
          "base_uri": "https://localhost:8080/"
        },
        "id": "mBLWWxGcWQlS",
        "outputId": "87e9113e-9ba4-415b-ef8a-ef1cd0e0704d"
      },
      "source": [
        "L = [\"Pritam\",\"Riya\", 1997, 1997]\n",
        "\n",
        "L"
      ],
      "execution_count": null,
      "outputs": [
        {
          "output_type": "execute_result",
          "data": {
            "text/plain": [
              "['Pritam', 'Riya', 1997, 1997]"
            ]
          },
          "metadata": {
            "tags": []
          },
          "execution_count": 212
        }
      ]
    },
    {
      "cell_type": "code",
      "metadata": {
        "colab": {
          "base_uri": "https://localhost:8080/"
        },
        "id": "L96N_pvpWQnb",
        "outputId": "5624dc87-32b8-42e1-9bc0-bd3ca28de500"
      },
      "source": [
        "print(type(L))"
      ],
      "execution_count": null,
      "outputs": [
        {
          "output_type": "stream",
          "text": [
            "<class 'list'>\n"
          ],
          "name": "stdout"
        }
      ]
    },
    {
      "cell_type": "code",
      "metadata": {
        "id": "g0v7OokUWQpb"
      },
      "source": [
        "L = [1,9,8,6,3,5]\n",
        "\n",
        "L.sort()"
      ],
      "execution_count": null,
      "outputs": []
    },
    {
      "cell_type": "code",
      "metadata": {
        "colab": {
          "base_uri": "https://localhost:8080/"
        },
        "id": "2joMwBpKWQs4",
        "outputId": "0772b400-8a2d-4a29-aa96-9e309e0627c2"
      },
      "source": [
        "print(L)"
      ],
      "execution_count": null,
      "outputs": [
        {
          "output_type": "stream",
          "text": [
            "[1, 3, 5, 6, 8, 9]\n"
          ],
          "name": "stdout"
        }
      ]
    },
    {
      "cell_type": "code",
      "metadata": {
        "colab": {
          "base_uri": "https://localhost:8080/"
        },
        "id": "Lc7RB3zPyKCk",
        "outputId": "20c73302-acb3-4064-f787-7c63cd58c459"
      },
      "source": [
        "L.reverse()\n",
        "\n",
        "print(L)"
      ],
      "execution_count": null,
      "outputs": [
        {
          "output_type": "stream",
          "text": [
            "[9, 8, 6, 5, 3, 1]\n"
          ],
          "name": "stdout"
        }
      ]
    },
    {
      "cell_type": "code",
      "metadata": {
        "colab": {
          "base_uri": "https://localhost:8080/"
        },
        "id": "lGURAbEzyKFK",
        "outputId": "cb7a1de9-974e-444e-a6cf-b28f95174c15"
      },
      "source": [
        "# Slicing \n",
        "\n",
        "L = [12,14,16,18,20,22]\n",
        "\n",
        "L[2:6]"
      ],
      "execution_count": null,
      "outputs": [
        {
          "output_type": "execute_result",
          "data": {
            "text/plain": [
              "[16, 18, 20, 22]"
            ]
          },
          "metadata": {
            "tags": []
          },
          "execution_count": 229
        }
      ]
    },
    {
      "cell_type": "code",
      "metadata": {
        "colab": {
          "base_uri": "https://localhost:8080/"
        },
        "id": "pahyZwedyKHv",
        "outputId": "463eac91-cc53-4658-cfc8-de7985adfd39"
      },
      "source": [
        "K = [ int(i) for i in  input(\"Enter Values -\").split()]"
      ],
      "execution_count": null,
      "outputs": [
        {
          "output_type": "stream",
          "text": [
            "Enter Values -12 24 48 96\n"
          ],
          "name": "stdout"
        }
      ]
    },
    {
      "cell_type": "code",
      "metadata": {
        "colab": {
          "base_uri": "https://localhost:8080/"
        },
        "id": "2Mp7LINdyKKg",
        "outputId": "1a34c820-965a-4013-8397-8e215554940d"
      },
      "source": [
        "K = \"P r i t a m\"\n",
        "W = K.split( )\n",
        "print(W)"
      ],
      "execution_count": null,
      "outputs": [
        {
          "output_type": "stream",
          "text": [
            "['P', 'r', 'i', 't', 'a', 'm']\n"
          ],
          "name": "stdout"
        }
      ]
    },
    {
      "cell_type": "markdown",
      "metadata": {
        "id": "WGE7eoQujNIa"
      },
      "source": [
        "### DAY-2"
      ]
    },
    {
      "cell_type": "code",
      "metadata": {
        "colab": {
          "base_uri": "https://localhost:8080/"
        },
        "id": "S2Pw_PImkvq-",
        "outputId": "29c29bb9-d507-463b-f7c3-0cf5dc072f76"
      },
      "source": [
        "X= \"P r i t a m \"\n",
        "\n",
        "Y = X.split()\n",
        "\n",
        "Y"
      ],
      "execution_count": null,
      "outputs": [
        {
          "output_type": "execute_result",
          "data": {
            "text/plain": [
              "['P', 'r', 'i', 't', 'a', 'm']"
            ]
          },
          "metadata": {
            "tags": []
          },
          "execution_count": 1
        }
      ]
    },
    {
      "cell_type": "code",
      "metadata": {
        "colab": {
          "base_uri": "https://localhost:8080/"
        },
        "id": "v2vKy02RiwlK",
        "outputId": "48f730ee-f60f-4f6a-ecbd-08abcad38771"
      },
      "source": [
        "X =\"Hello Pritam, How is Your Day\"\n",
        "\n",
        "Y = X.split()\n",
        "\n",
        "Y"
      ],
      "execution_count": null,
      "outputs": [
        {
          "output_type": "execute_result",
          "data": {
            "text/plain": [
              "['Hello', 'Pritam,', 'How', 'is', 'Your', 'Day']"
            ]
          },
          "metadata": {
            "tags": []
          },
          "execution_count": 2
        }
      ]
    },
    {
      "cell_type": "code",
      "metadata": {
        "colab": {
          "base_uri": "https://localhost:8080/"
        },
        "id": "Qr0qAcnLkHiC",
        "outputId": "5c08a56e-90ab-4a6e-c9d1-789eec99c75b"
      },
      "source": [
        "L = [12,5,10,3,2,4]\n",
        "\n",
        "print(L[3])\n",
        "print(L[0:3])\n",
        "print(L[:3])\n",
        "print(L[3:])\n",
        "print(L[:])\n",
        "print(L[-3])"
      ],
      "execution_count": null,
      "outputs": [
        {
          "output_type": "stream",
          "text": [
            "3\n",
            "[12, 5, 10]\n",
            "[12, 5, 10]\n",
            "[3, 2, 4]\n",
            "[12, 5, 10, 3, 2, 4]\n",
            "3\n"
          ],
          "name": "stdout"
        }
      ]
    },
    {
      "cell_type": "code",
      "metadata": {
        "colab": {
          "base_uri": "https://localhost:8080/"
        },
        "id": "qOEcU1ZIlPVk",
        "outputId": "2d477c7f-17bf-4664-ed18-7a10fe48bfd7"
      },
      "source": [
        "L = [12,5,10,3,2,4]\n",
        "\n",
        "print(L[1:6])\n",
        "print(L[1:6:1])\n",
        "print(L[1:6:2])\n"
      ],
      "execution_count": null,
      "outputs": [
        {
          "output_type": "stream",
          "text": [
            "[5, 10, 3, 2, 4]\n",
            "[5, 10, 3, 2, 4]\n",
            "[5, 3, 4]\n"
          ],
          "name": "stdout"
        }
      ]
    },
    {
      "cell_type": "code",
      "metadata": {
        "colab": {
          "base_uri": "https://localhost:8080/"
        },
        "id": "6W3MCC1imiYN",
        "outputId": "81d83f94-bc9d-4411-baba-d3d0fc2f2da6"
      },
      "source": [
        "L.reverse()\n",
        "L"
      ],
      "execution_count": null,
      "outputs": [
        {
          "output_type": "execute_result",
          "data": {
            "text/plain": [
              "[4, 2, 3, 10, 5, 12]"
            ]
          },
          "metadata": {
            "tags": []
          },
          "execution_count": 5
        }
      ]
    },
    {
      "cell_type": "code",
      "metadata": {
        "colab": {
          "base_uri": "https://localhost:8080/"
        },
        "id": "sBFUz1U7m181",
        "outputId": "eae70330-fd1a-4a82-f84d-95aa45536a4c"
      },
      "source": [
        "# Repetation\n",
        "B = [2,4,6,8]\n",
        "B = B*3\n",
        "print(B)"
      ],
      "execution_count": null,
      "outputs": [
        {
          "output_type": "stream",
          "text": [
            "[2, 4, 6, 8, 2, 4, 6, 8, 2, 4, 6, 8]\n"
          ],
          "name": "stdout"
        }
      ]
    },
    {
      "cell_type": "code",
      "metadata": {
        "colab": {
          "base_uri": "https://localhost:8080/"
        },
        "id": "-9E_0O_5nXNA",
        "outputId": "45a0194b-ae9e-41d4-ba96-26e4b4aebac6"
      },
      "source": [
        "# Conactenation\n",
        "First = [1,2,3]\n",
        "Last = [4,5,6]\n",
        "\n",
        "Total = First + Last\n",
        "\n",
        "Total"
      ],
      "execution_count": null,
      "outputs": [
        {
          "output_type": "execute_result",
          "data": {
            "text/plain": [
              "[1, 2, 3, 4, 5, 6]"
            ]
          },
          "metadata": {
            "tags": []
          },
          "execution_count": 7
        }
      ]
    },
    {
      "cell_type": "code",
      "metadata": {
        "colab": {
          "base_uri": "https://localhost:8080/"
        },
        "id": "TsqR2mshoEur",
        "outputId": "d80c2098-c144-47f8-8f9f-8b26433b8c31"
      },
      "source": [
        "# Membership\n",
        "\n",
        "K = [10,20,30,40,50,60]\n",
        "\n",
        "print(20 in K)\n",
        "print(25 in K)"
      ],
      "execution_count": null,
      "outputs": [
        {
          "output_type": "stream",
          "text": [
            "True\n",
            "False\n"
          ],
          "name": "stdout"
        }
      ]
    },
    {
      "cell_type": "code",
      "metadata": {
        "colab": {
          "base_uri": "https://localhost:8080/"
        },
        "id": "fzE_071Vofzj",
        "outputId": "706ade81-0544-468b-b80a-2610e8cb0206"
      },
      "source": [
        "# Iiteration\n",
        "L = [12,14,16,18,20]\n",
        "\n",
        "for I in L:\n",
        "  print(I)"
      ],
      "execution_count": null,
      "outputs": [
        {
          "output_type": "stream",
          "text": [
            "12\n",
            "14\n",
            "16\n",
            "18\n",
            "20\n"
          ],
          "name": "stdout"
        }
      ]
    },
    {
      "cell_type": "code",
      "metadata": {
        "colab": {
          "base_uri": "https://localhost:8080/"
        },
        "id": "7k900T5fo0Fl",
        "outputId": "b4818e19-2bb1-4496-e0b8-96781f759587"
      },
      "source": [
        "L = [12,14,16,18,20]\n",
        "\n",
        "for I in L:\n",
        "  print(I, end = ' ')"
      ],
      "execution_count": null,
      "outputs": [
        {
          "output_type": "stream",
          "text": [
            "12 14 16 18 20 "
          ],
          "name": "stdout"
        }
      ]
    },
    {
      "cell_type": "code",
      "metadata": {
        "colab": {
          "base_uri": "https://localhost:8080/"
        },
        "id": "h6jzflNTpHvl",
        "outputId": "a5bb271e-955c-466a-b760-d81afeee2b77"
      },
      "source": [
        "L.append(22)\n",
        "L"
      ],
      "execution_count": null,
      "outputs": [
        {
          "output_type": "execute_result",
          "data": {
            "text/plain": [
              "[12, 14, 16, 18, 20, 22]"
            ]
          },
          "metadata": {
            "tags": []
          },
          "execution_count": 11
        }
      ]
    },
    {
      "cell_type": "code",
      "metadata": {
        "colab": {
          "base_uri": "https://localhost:8080/"
        },
        "id": "OnHaVYcQptK8",
        "outputId": "3aef1fd4-f833-482b-d52d-191b011c2d05"
      },
      "source": [
        "L.pop(2)\n",
        "L"
      ],
      "execution_count": null,
      "outputs": [
        {
          "output_type": "execute_result",
          "data": {
            "text/plain": [
              "[12, 14, 18, 20, 22]"
            ]
          },
          "metadata": {
            "tags": []
          },
          "execution_count": 12
        }
      ]
    },
    {
      "cell_type": "code",
      "metadata": {
        "colab": {
          "base_uri": "https://localhost:8080/"
        },
        "id": "57fjmOf6qdy_",
        "outputId": "f44d796a-2aba-4b97-bcdd-16e88bf66bcf"
      },
      "source": [
        "L.remove(20)\n",
        "L"
      ],
      "execution_count": null,
      "outputs": [
        {
          "output_type": "execute_result",
          "data": {
            "text/plain": [
              "[12, 14, 18, 22]"
            ]
          },
          "metadata": {
            "tags": []
          },
          "execution_count": 13
        }
      ]
    },
    {
      "cell_type": "code",
      "metadata": {
        "id": "SpaqX8WrqrjN"
      },
      "source": [
        "# Delete\n",
        "del L"
      ],
      "execution_count": null,
      "outputs": []
    },
    {
      "cell_type": "code",
      "metadata": {
        "id": "0n_dpDWDrGf7"
      },
      "source": [
        "L = [12,14,16,12,18,20,12]"
      ],
      "execution_count": null,
      "outputs": []
    },
    {
      "cell_type": "code",
      "metadata": {
        "colab": {
          "base_uri": "https://localhost:8080/"
        },
        "id": "X-var5larHi5",
        "outputId": "373c5946-2213-4434-8b74-8fdf59be31b5"
      },
      "source": [
        "L.count(12)"
      ],
      "execution_count": null,
      "outputs": [
        {
          "output_type": "execute_result",
          "data": {
            "text/plain": [
              "3"
            ]
          },
          "metadata": {
            "tags": []
          },
          "execution_count": 16
        }
      ]
    },
    {
      "cell_type": "code",
      "metadata": {
        "colab": {
          "base_uri": "https://localhost:8080/"
        },
        "id": "UaRtj3Oerfdh",
        "outputId": "f58f65dd-4b2b-4ab6-b432-3694117e4665"
      },
      "source": [
        "L.index(16)"
      ],
      "execution_count": null,
      "outputs": [
        {
          "output_type": "execute_result",
          "data": {
            "text/plain": [
              "2"
            ]
          },
          "metadata": {
            "tags": []
          },
          "execution_count": 17
        }
      ]
    },
    {
      "cell_type": "markdown",
      "metadata": {
        "id": "f9tveJw1sJJm"
      },
      "source": [
        "### Tuple"
      ]
    },
    {
      "cell_type": "code",
      "metadata": {
        "id": "ka4laM56sHxz"
      },
      "source": [
        "T =(2,4,6,\"Hello\",\"Pritam\",\"$\")"
      ],
      "execution_count": null,
      "outputs": []
    },
    {
      "cell_type": "code",
      "metadata": {
        "colab": {
          "base_uri": "https://localhost:8080/"
        },
        "id": "mLLnOVB-sb0u",
        "outputId": "14098af7-0dab-4000-b864-0c68e5fbdcca"
      },
      "source": [
        "T"
      ],
      "execution_count": null,
      "outputs": [
        {
          "output_type": "execute_result",
          "data": {
            "text/plain": [
              "(2, 4, 6, 'Hello', 'Pritam', '$')"
            ]
          },
          "metadata": {
            "tags": []
          },
          "execution_count": 20
        }
      ]
    },
    {
      "cell_type": "code",
      "metadata": {
        "colab": {
          "base_uri": "https://localhost:8080/"
        },
        "id": "fQ6Xo28Ascmf",
        "outputId": "b12ec7e2-f8a1-4417-c0c5-8b8d4a65cb0c"
      },
      "source": [
        "type(T)"
      ],
      "execution_count": null,
      "outputs": [
        {
          "output_type": "execute_result",
          "data": {
            "text/plain": [
              "tuple"
            ]
          },
          "metadata": {
            "tags": []
          },
          "execution_count": 21
        }
      ]
    },
    {
      "cell_type": "code",
      "metadata": {
        "id": "3lDUs-ejsf5t"
      },
      "source": [
        "Tup = (2,4,6,[1,3,5])"
      ],
      "execution_count": null,
      "outputs": []
    },
    {
      "cell_type": "code",
      "metadata": {
        "id": "tGbHo6_ntE_B"
      },
      "source": [
        "Tup[3][0]=5"
      ],
      "execution_count": null,
      "outputs": []
    },
    {
      "cell_type": "code",
      "metadata": {
        "colab": {
          "base_uri": "https://localhost:8080/"
        },
        "id": "3945X9jNtKwq",
        "outputId": "8e13590f-03c2-4369-9d74-3e2231d40f98"
      },
      "source": [
        "Tup"
      ],
      "execution_count": null,
      "outputs": [
        {
          "output_type": "execute_result",
          "data": {
            "text/plain": [
              "(2, 4, 6, [5, 3, 5])"
            ]
          },
          "metadata": {
            "tags": []
          },
          "execution_count": 24
        }
      ]
    },
    {
      "cell_type": "code",
      "metadata": {
        "colab": {
          "base_uri": "https://localhost:8080/"
        },
        "id": "o3BtoUrZtLlQ",
        "outputId": "e26e58b8-a56a-41ad-a6df-b027642a6232"
      },
      "source": [
        "Tup = [1]\n",
        "print(type(Tup))\n",
        "\n",
        "Lst = (10)\n",
        "print(type(Lst))\n",
        "\n",
        "Tup = (1,)\n",
        "print(type(Tup))"
      ],
      "execution_count": null,
      "outputs": [
        {
          "output_type": "stream",
          "text": [
            "<class 'list'>\n",
            "<class 'int'>\n",
            "<class 'tuple'>\n"
          ],
          "name": "stdout"
        }
      ]
    },
    {
      "cell_type": "markdown",
      "metadata": {
        "id": "TqT0l32KuZgt"
      },
      "source": [
        "### Set"
      ]
    },
    {
      "cell_type": "code",
      "metadata": {
        "colab": {
          "base_uri": "https://localhost:8080/"
        },
        "id": "X-SxPYxttwVW",
        "outputId": "6762fd89-3e47-4ad8-f81b-966889c74e5b"
      },
      "source": [
        "S ={2,4,6,8,10}\n",
        "\n",
        "print(type(S))\n",
        "\n",
        "S"
      ],
      "execution_count": null,
      "outputs": [
        {
          "output_type": "stream",
          "text": [
            "<class 'set'>\n"
          ],
          "name": "stdout"
        },
        {
          "output_type": "execute_result",
          "data": {
            "text/plain": [
              "{2, 4, 6, 8, 10}"
            ]
          },
          "metadata": {
            "tags": []
          },
          "execution_count": 26
        }
      ]
    },
    {
      "cell_type": "code",
      "metadata": {
        "colab": {
          "base_uri": "https://localhost:8080/"
        },
        "id": "aa-KyF11urHN",
        "outputId": "b158918e-93fe-4176-c814-c282bc3d613c"
      },
      "source": [
        "S = {1,1,0,2,8,4,5,6,2,2,4,2,2}\n",
        "\n",
        "S"
      ],
      "execution_count": null,
      "outputs": [
        {
          "output_type": "execute_result",
          "data": {
            "text/plain": [
              "{0, 1, 2, 4, 5, 6, 8}"
            ]
          },
          "metadata": {
            "tags": []
          },
          "execution_count": 27
        }
      ]
    },
    {
      "cell_type": "code",
      "metadata": {
        "colab": {
          "base_uri": "https://localhost:8080/"
        },
        "id": "xAbYD4PavCtW",
        "outputId": "e63aedda-43d3-4997-c9a9-25cdbc3d732d"
      },
      "source": [
        "L =[8,6,4,2,0]\n",
        "print(L)\n",
        "\n",
        "S = {8,6,4,2,0}\n",
        "print(S)"
      ],
      "execution_count": null,
      "outputs": [
        {
          "output_type": "stream",
          "text": [
            "[8, 6, 4, 2, 0]\n",
            "{0, 2, 4, 6, 8}\n"
          ],
          "name": "stdout"
        }
      ]
    },
    {
      "cell_type": "code",
      "metadata": {
        "colab": {
          "base_uri": "https://localhost:8080/"
        },
        "id": "cde_ERmoLfMu",
        "outputId": "a50f1dd0-9c39-419d-b72f-2825ad9ba4c2"
      },
      "source": [
        "S1 = {8,6,4,2,0}\n",
        "S2 = {14,12,10,8}\n",
        "print(S1-S2)\n",
        "print(S1 & S2)\n",
        "print(S1.union(S1))"
      ],
      "execution_count": null,
      "outputs": [
        {
          "output_type": "stream",
          "text": [
            "{0, 2, 4, 6}\n",
            "{8}\n",
            "{0, 2, 4, 6, 8}\n"
          ],
          "name": "stdout"
        }
      ]
    },
    {
      "cell_type": "markdown",
      "metadata": {
        "id": "kyIdvizlM6y3"
      },
      "source": [
        "### Dictoniary"
      ]
    },
    {
      "cell_type": "code",
      "metadata": {
        "colab": {
          "base_uri": "https://localhost:8080/"
        },
        "id": "2nW3sH9aL13m",
        "outputId": "303eba1f-038d-4d25-faeb-63894aae2197"
      },
      "source": [
        "Details = {\"Name\":\"Priatm\",\"Roll -\":20040,\"Section\":\"F3 BA3\"}\n",
        "Details"
      ],
      "execution_count": null,
      "outputs": [
        {
          "output_type": "execute_result",
          "data": {
            "text/plain": [
              "{'Name': 'Priatm', 'Roll -': 20040, 'Section': 'F3 BA3'}"
            ]
          },
          "metadata": {
            "tags": []
          },
          "execution_count": 30
        }
      ]
    },
    {
      "cell_type": "code",
      "metadata": {
        "colab": {
          "base_uri": "https://localhost:8080/"
        },
        "id": "rVfe32CiNVGw",
        "outputId": "b9637492-107b-45a3-edc7-1bf7880a2c77"
      },
      "source": [
        "type(Details)"
      ],
      "execution_count": null,
      "outputs": [
        {
          "output_type": "execute_result",
          "data": {
            "text/plain": [
              "dict"
            ]
          },
          "metadata": {
            "tags": []
          },
          "execution_count": 31
        }
      ]
    },
    {
      "cell_type": "code",
      "metadata": {
        "colab": {
          "base_uri": "https://localhost:8080/"
        },
        "id": "z2gU67g7NnH-",
        "outputId": "1dc323c9-ea8b-43a8-c96d-83393a1391a1"
      },
      "source": [
        "Details[\"Roll -\"]"
      ],
      "execution_count": null,
      "outputs": [
        {
          "output_type": "execute_result",
          "data": {
            "text/plain": [
              "20040"
            ]
          },
          "metadata": {
            "tags": []
          },
          "execution_count": 32
        }
      ]
    },
    {
      "cell_type": "code",
      "metadata": {
        "colab": {
          "base_uri": "https://localhost:8080/"
        },
        "id": "pBrsK8p4NvUA",
        "outputId": "4fe8fa83-9ade-4250-cf33-c683438c85a2"
      },
      "source": [
        "Details.get(\"Roll -\")"
      ],
      "execution_count": null,
      "outputs": [
        {
          "output_type": "execute_result",
          "data": {
            "text/plain": [
              "20040"
            ]
          },
          "metadata": {
            "tags": []
          },
          "execution_count": 33
        }
      ]
    },
    {
      "cell_type": "code",
      "metadata": {
        "colab": {
          "base_uri": "https://localhost:8080/"
        },
        "id": "Q4U7PmsiOKoh",
        "outputId": "9ce92940-9625-4b03-8618-20cd5442ff91"
      },
      "source": [
        "print(Details.get(\"DOB\"))"
      ],
      "execution_count": null,
      "outputs": [
        {
          "output_type": "stream",
          "text": [
            "None\n"
          ],
          "name": "stdout"
        }
      ]
    },
    {
      "cell_type": "code",
      "metadata": {
        "colab": {
          "base_uri": "https://localhost:8080/"
        },
        "id": "uFyzhowcOQCL",
        "outputId": "e04396ce-00d7-4da2-ae40-f47cd75753e9"
      },
      "source": [
        "print(Details.get(\"DOB\",\"Pritam\"))"
      ],
      "execution_count": null,
      "outputs": [
        {
          "output_type": "stream",
          "text": [
            "Pritam\n"
          ],
          "name": "stdout"
        }
      ]
    },
    {
      "cell_type": "code",
      "metadata": {
        "colab": {
          "base_uri": "https://localhost:8080/"
        },
        "id": "VouveOmMOe3m",
        "outputId": "3e3e00e4-3883-4840-afff-45b595b700dd"
      },
      "source": [
        "Details.keys()"
      ],
      "execution_count": null,
      "outputs": [
        {
          "output_type": "execute_result",
          "data": {
            "text/plain": [
              "dict_keys(['Name', 'Roll -', 'Section'])"
            ]
          },
          "metadata": {
            "tags": []
          },
          "execution_count": 36
        }
      ]
    },
    {
      "cell_type": "code",
      "metadata": {
        "colab": {
          "base_uri": "https://localhost:8080/"
        },
        "id": "o_Q17ShYOpx8",
        "outputId": "9d26bdd5-8f48-4832-895f-58bf1488a013"
      },
      "source": [
        "Details.values()"
      ],
      "execution_count": null,
      "outputs": [
        {
          "output_type": "execute_result",
          "data": {
            "text/plain": [
              "dict_values(['Priatm', 20040, 'F3 BA3'])"
            ]
          },
          "metadata": {
            "tags": []
          },
          "execution_count": 37
        }
      ]
    },
    {
      "cell_type": "code",
      "metadata": {
        "colab": {
          "base_uri": "https://localhost:8080/"
        },
        "id": "CJ-tFRODO1Xa",
        "outputId": "35530dd7-6c63-4286-ad8e-b7917b59f71e"
      },
      "source": [
        "Details.items"
      ],
      "execution_count": null,
      "outputs": [
        {
          "output_type": "execute_result",
          "data": {
            "text/plain": [
              "<function dict.items>"
            ]
          },
          "metadata": {
            "tags": []
          },
          "execution_count": 38
        }
      ]
    },
    {
      "cell_type": "markdown",
      "metadata": {
        "id": "bSSB082kPCqS"
      },
      "source": [
        "### Modules"
      ]
    },
    {
      "cell_type": "code",
      "metadata": {
        "id": "hyeVZsO1O9yC"
      },
      "source": [
        "# Project - Generating OTP\n",
        "\n",
        "# Program_1 - Factorial()\n",
        "# Program_2 - Import Program_1 and use same factorial\n",
        "\n",
        "# Example: Math, Random, String"
      ],
      "execution_count": null,
      "outputs": []
    },
    {
      "cell_type": "code",
      "metadata": {
        "colab": {
          "base_uri": "https://localhost:8080/"
        },
        "id": "Usyzpiu2mfKX",
        "outputId": "fd76c1e0-36d3-40f7-f2b1-6d5ff9ece5a4"
      },
      "source": [
        "import math as m\n",
        "\n",
        "N = 64\n",
        "\n",
        "print(m.sqrt(N))\n",
        "print(m.sqrt(N))\n",
        "\n",
        "print(m.ceil(5.4))\n",
        "print(m.floor(5.4))"
      ],
      "execution_count": null,
      "outputs": [
        {
          "output_type": "stream",
          "text": [
            "8.0\n",
            "8.0\n",
            "6\n",
            "5\n"
          ],
          "name": "stdout"
        }
      ]
    },
    {
      "cell_type": "code",
      "metadata": {
        "colab": {
          "base_uri": "https://localhost:8080/"
        },
        "id": "2srSZHzompZ8",
        "outputId": "0ee3ea85-592d-4e58-ad8a-f65f8aacf5c7"
      },
      "source": [
        "# Genterate OTP\n",
        "# OTP Project -2\n",
        "# 6 Digiit OTP \n",
        "\n",
        "import random as r\n",
        "import string as s\n",
        "import math as m\n",
        "\n",
        "Len = int(input(\"Enter Length of your OTP -\"))\n",
        "\n",
        "# All Charaters\n",
        "Characters = s.ascii_letters + s.digits\n",
        "\n",
        "OTP = \" \"\n",
        "\n",
        "for i in range(Len):\n",
        "  OTP += r.choice(Characters)\n",
        "print(OTP)"
      ],
      "execution_count": null,
      "outputs": [
        {
          "output_type": "stream",
          "text": [
            "Enter Length of your OTP -6\n",
            " f7vt0A\n"
          ],
          "name": "stdout"
        }
      ]
    },
    {
      "cell_type": "code",
      "metadata": {
        "colab": {
          "base_uri": "https://localhost:8080/"
        },
        "id": "gcbnqK_qtx9b",
        "outputId": "385443dd-4bdc-4dde-fba6-520212b32e72"
      },
      "source": [
        "import random as r\n",
        "print(r.randint(0,10))\n",
        "print(r.randrange(0,10))\n",
        "print(r.random()*50)"
      ],
      "execution_count": null,
      "outputs": [
        {
          "output_type": "stream",
          "text": [
            "7\n",
            "5\n",
            "27.59772358365368\n"
          ],
          "name": "stdout"
        }
      ]
    },
    {
      "cell_type": "code",
      "metadata": {
        "id": "60abFWMDtyA5"
      },
      "source": [
        "# Assigment_2 - Remove all occurrences of an element from a list\n",
        "# Assigment_3 - Check whether a string is pangram"
      ],
      "execution_count": null,
      "outputs": []
    },
    {
      "cell_type": "code",
      "metadata": {
        "colab": {
          "base_uri": "https://localhost:8080/"
        },
        "id": "k3wKbtXp5AJE",
        "outputId": "e06fe94a-e500-49c5-c33c-8d2a0977f236"
      },
      "source": [
        "# Assigment_2 - Remove all occurrences of an element from a list\n",
        "\n",
        "\n",
        "def remove_items(test_list, item):\n",
        "      \n",
        "    # using list comprehension to perform the task\n",
        "    res = [i for i in test_list if i != item]\n",
        "  \n",
        "    return res\n",
        "  \n",
        "# driver code\n",
        "if __name__==\"__main__\":\n",
        "      \n",
        "    # initializing the list\n",
        "    test_list = [1, 3, 4, 6, 5, 1]\n",
        "  \n",
        "    # the item which is to be removed\n",
        "    item = 1\n",
        "  \n",
        "    # printing the original list\n",
        "    print (\"The original list is : \" + str(test_list))\n",
        "  \n",
        "    # calling the function remove_items()\n",
        "    res = remove_items(test_list, item)\n",
        "  \n",
        "    # printing result\n",
        "    print (\"The list after performing the remove operation is : \" + str(res))"
      ],
      "execution_count": null,
      "outputs": [
        {
          "output_type": "stream",
          "text": [
            "The original list is : [1, 3, 4, 6, 5, 1]\n",
            "The list after performing the remove operation is : [3, 4, 6, 5]\n"
          ],
          "name": "stdout"
        }
      ]
    },
    {
      "cell_type": "code",
      "metadata": {
        "colab": {
          "base_uri": "https://localhost:8080/"
        },
        "id": "3A-f9T3X5JGT",
        "outputId": "2de06e75-8132-4380-b52a-182446339ade"
      },
      "source": [
        "# Assigment_3 - Check whether a string is pangram\n",
        "# Check if the string is pangram\n",
        "import string\n",
        "  \n",
        "def ispangram(str):\n",
        "    alphabet = \"abcdefghijklmnopqrstuvwxyz\"\n",
        "    for char in alphabet:\n",
        "        if char not in str.lower():\n",
        "            return False\n",
        "  \n",
        "    return True\n",
        "      \n",
        "# Driver code\n",
        "string = 'the quick brown fox jumps over the lazy dog'\n",
        "if(ispangram(string) == True):\n",
        "    print(\"Yes\")\n",
        "else:\n",
        "    print(\"No\")"
      ],
      "execution_count": null,
      "outputs": [
        {
          "output_type": "stream",
          "text": [
            "Yes\n"
          ],
          "name": "stdout"
        }
      ]
    },
    {
      "cell_type": "markdown",
      "metadata": {
        "id": "TkCztat0tzaO"
      },
      "source": [
        "### DAY-3"
      ]
    },
    {
      "cell_type": "code",
      "metadata": {
        "colab": {
          "base_uri": "https://localhost:8080/"
        },
        "id": "jFXUvlOKoJFG",
        "outputId": "03796834-fb2f-4fbd-b573-9adac1ed3ef7"
      },
      "source": [
        "# Conditional Statement\n",
        "\n",
        "Amt = int(input(\"Enter Left out Amount -\"))\n",
        "if Amt >= 10:\n",
        "  print(\"Chai and Biscuit\")\n",
        "else:\n",
        "  print(\"No Chai and Biscuit\")\n",
        "print(\"Done\")"
      ],
      "execution_count": null,
      "outputs": [
        {
          "output_type": "stream",
          "text": [
            "Enter Left out Amount -5\n",
            "No Chai and Biscuit\n",
            "Done\n"
          ],
          "name": "stdout"
        }
      ]
    },
    {
      "cell_type": "code",
      "metadata": {
        "colab": {
          "base_uri": "https://localhost:8080/"
        },
        "id": "Z0iLBME8wmXU",
        "outputId": "a107c066-ab23-40f6-9fac-36e73ee72d09"
      },
      "source": [
        "# Conditional Statement\n",
        "\n",
        "Amt = int(input(\"Enter Left out Amount -\"))\n",
        "if Amt >= 10:\n",
        "  print(\"Chai and Biscuit\")\n",
        "elif Amt >= 5:\n",
        "  print(\"only Chai\")\n",
        "else:\n",
        "  print(\"No Chai and Biscuit\")\n",
        "print(\"Done\")"
      ],
      "execution_count": null,
      "outputs": [
        {
          "output_type": "stream",
          "text": [
            "Enter Left out Amount -11\n",
            "Chai and Biscuit\n",
            "Done\n"
          ],
          "name": "stdout"
        }
      ]
    },
    {
      "cell_type": "code",
      "metadata": {
        "colab": {
          "base_uri": "https://localhost:8080/"
        },
        "id": "d-oRE9IlzM7B",
        "outputId": "49210a0f-27a0-4dae-d851-c05f1af94277"
      },
      "source": [
        "# Loop (For/ While)\n",
        "\n",
        "i = 1\n",
        "while i <= 10:\n",
        "  print(i)\n",
        "  i +=1"
      ],
      "execution_count": null,
      "outputs": [
        {
          "output_type": "stream",
          "text": [
            "1\n",
            "2\n",
            "3\n",
            "4\n",
            "5\n",
            "6\n",
            "7\n",
            "8\n",
            "9\n",
            "10\n"
          ],
          "name": "stdout"
        }
      ]
    },
    {
      "cell_type": "code",
      "metadata": {
        "colab": {
          "base_uri": "https://localhost:8080/"
        },
        "id": "IkcuJA-f0Ryk",
        "outputId": "cbb513d7-32e5-430a-8f42-8d39073ebe96"
      },
      "source": [
        "# Loop (For/ While)\n",
        "\n",
        "i = 1\n",
        "while i <= 10:\n",
        "  print(i, end= \" \")\n",
        "  i +=1"
      ],
      "execution_count": null,
      "outputs": [
        {
          "output_type": "stream",
          "text": [
            "1 2 3 4 5 6 7 8 9 10 "
          ],
          "name": "stdout"
        }
      ]
    },
    {
      "cell_type": "code",
      "metadata": {
        "colab": {
          "base_uri": "https://localhost:8080/"
        },
        "id": "a0KZJ5zE1SWS",
        "outputId": "f1081f6a-60bb-4d32-8d94-bf7804b79864"
      },
      "source": [
        "for i in range(11):\n",
        "  print(i)"
      ],
      "execution_count": null,
      "outputs": [
        {
          "output_type": "stream",
          "text": [
            "0\n",
            "1\n",
            "2\n",
            "3\n",
            "4\n",
            "5\n",
            "6\n",
            "7\n",
            "8\n",
            "9\n",
            "10\n"
          ],
          "name": "stdout"
        }
      ]
    },
    {
      "cell_type": "code",
      "metadata": {
        "colab": {
          "base_uri": "https://localhost:8080/"
        },
        "id": "XpQUt9en1Y53",
        "outputId": "5bfe3849-4fed-4d74-e4ea-fe760f1aede2"
      },
      "source": [
        "for i in range(11):\n",
        "  print(i, end= \" \")"
      ],
      "execution_count": null,
      "outputs": [
        {
          "output_type": "stream",
          "text": [
            "0 1 2 3 4 5 6 7 8 9 10 "
          ],
          "name": "stdout"
        }
      ]
    },
    {
      "cell_type": "code",
      "metadata": {
        "colab": {
          "base_uri": "https://localhost:8080/"
        },
        "id": "piSiapGG2KAc",
        "outputId": "c5fbdb01-c8e0-4da3-8c4c-eaa25c8f3138"
      },
      "source": [
        "name = \"Pritam\"\n",
        "\n",
        "for i in name:\n",
        "  print(i)"
      ],
      "execution_count": null,
      "outputs": [
        {
          "output_type": "stream",
          "text": [
            "P\n",
            "r\n",
            "i\n",
            "t\n",
            "a\n",
            "m\n"
          ],
          "name": "stdout"
        }
      ]
    },
    {
      "cell_type": "code",
      "metadata": {
        "colab": {
          "base_uri": "https://localhost:8080/"
        },
        "id": "4ram6cbx2j6u",
        "outputId": "aa23a5c2-2f62-4e5d-e4ad-6bd5fd51fe5f"
      },
      "source": [
        "name = \"Pritam\"\n",
        "\n",
        "for i in name:\n",
        "  print(i, end= \"-\")"
      ],
      "execution_count": null,
      "outputs": [
        {
          "output_type": "stream",
          "text": [
            "P-r-i-t-a-m-"
          ],
          "name": "stdout"
        }
      ]
    },
    {
      "cell_type": "code",
      "metadata": {
        "colab": {
          "base_uri": "https://localhost:8080/"
        },
        "id": "r7XdtyrZ26Ef",
        "outputId": "28b2d80f-1a80-4d78-be73-43c2d2a177c8"
      },
      "source": [
        "Details = {\"Name\":\"Priatm\",\"Roll -\":20040,\"Section\":\"F3 BA3\"}\n",
        "\n",
        "for i in Details:\n",
        "  print(i)"
      ],
      "execution_count": null,
      "outputs": [
        {
          "output_type": "stream",
          "text": [
            "Name\n",
            "Roll -\n",
            "Section\n"
          ],
          "name": "stdout"
        }
      ]
    },
    {
      "cell_type": "code",
      "metadata": {
        "colab": {
          "base_uri": "https://localhost:8080/"
        },
        "id": "sFK2T7E23l3h",
        "outputId": "81354df2-ed43-456c-e52c-444590436fbd"
      },
      "source": [
        "Details = {\"Name\":\"Priatm\",\"Roll -\":20040,\"Section\":\"F3 BA3\"}\n",
        "\n",
        "for i in Details.values():\n",
        "  print(i)"
      ],
      "execution_count": null,
      "outputs": [
        {
          "output_type": "stream",
          "text": [
            "Priatm\n",
            "20040\n",
            "F3 BA3\n"
          ],
          "name": "stdout"
        }
      ]
    },
    {
      "cell_type": "code",
      "metadata": {
        "colab": {
          "base_uri": "https://localhost:8080/"
        },
        "id": "yYMxXTva3sd1",
        "outputId": "96240d1e-3c61-495b-f209-da863d3510ab"
      },
      "source": [
        "Details = {\"Name\":\"Priatm\",\"Roll -\":20040,\"Section\":\"F3 BA3\"}\n",
        "\n",
        "for i in Details.items():\n",
        "  print(i)"
      ],
      "execution_count": null,
      "outputs": [
        {
          "output_type": "stream",
          "text": [
            "('Name', 'Priatm')\n",
            "('Roll -', 20040)\n",
            "('Section', 'F3 BA3')\n"
          ],
          "name": "stdout"
        }
      ]
    },
    {
      "cell_type": "code",
      "metadata": {
        "colab": {
          "base_uri": "https://localhost:8080/"
        },
        "id": "stD14caf32tc",
        "outputId": "1457258b-e0aa-4406-f6de-2a4f1d576e0f"
      },
      "source": [
        "X = int(input(\"Enter 1st Value: \"))\n",
        "Y = int(input(\"Enter 2nd Value: \"))\n",
        "\n",
        "Res = X**Y\n",
        "\n",
        "Res"
      ],
      "execution_count": null,
      "outputs": [
        {
          "output_type": "stream",
          "text": [
            "Enter 1st Value: 10\n",
            "Enter 2nd Value: 2\n"
          ],
          "name": "stdout"
        },
        {
          "output_type": "execute_result",
          "data": {
            "text/plain": [
              "100"
            ]
          },
          "metadata": {
            "tags": []
          },
          "execution_count": 78
        }
      ]
    },
    {
      "cell_type": "code",
      "metadata": {
        "id": "lEobfix_8tU5"
      },
      "source": [
        "# Functions \n",
        "\n",
        "def sum(a,b):\n",
        "  return a+b\n"
      ],
      "execution_count": null,
      "outputs": []
    },
    {
      "cell_type": "code",
      "metadata": {
        "colab": {
          "base_uri": "https://localhost:8080/"
        },
        "id": "vs7ZEW_o9eHw",
        "outputId": "2175edf8-c785-4c6c-e144-7201d9f03f23"
      },
      "source": [
        "print(sum(10,26))"
      ],
      "execution_count": null,
      "outputs": [
        {
          "output_type": "stream",
          "text": [
            "36\n"
          ],
          "name": "stdout"
        }
      ]
    },
    {
      "cell_type": "code",
      "metadata": {
        "id": "bpDEA4yD9ico"
      },
      "source": [
        "def fun(n):\n",
        "  return(n,\"Pritam\")"
      ],
      "execution_count": null,
      "outputs": []
    },
    {
      "cell_type": "code",
      "metadata": {
        "colab": {
          "base_uri": "https://localhost:8080/"
        },
        "id": "4C_u2RMn-k76",
        "outputId": "059faf54-3dbf-4a26-bef8-051699588c23"
      },
      "source": [
        "fun(\"Hello\")"
      ],
      "execution_count": null,
      "outputs": [
        {
          "output_type": "execute_result",
          "data": {
            "text/plain": [
              "('Hello', 'Pritam')"
            ]
          },
          "metadata": {
            "tags": []
          },
          "execution_count": 95
        }
      ]
    },
    {
      "cell_type": "code",
      "metadata": {
        "id": "obGgybAr-ogR"
      },
      "source": [
        "def fn(name):\n",
        "  return(name,\"Pritam\")"
      ],
      "execution_count": null,
      "outputs": []
    },
    {
      "cell_type": "code",
      "metadata": {
        "colab": {
          "base_uri": "https://localhost:8080/"
        },
        "id": "RhR6e_qg_FvT",
        "outputId": "10b3f781-3206-4d41-d999-0c7818a3cdbc"
      },
      "source": [
        "fn(\"Riya\")"
      ],
      "execution_count": null,
      "outputs": [
        {
          "output_type": "execute_result",
          "data": {
            "text/plain": [
              "('Riya', 'Pritam')"
            ]
          },
          "metadata": {
            "tags": []
          },
          "execution_count": 97
        }
      ]
    },
    {
      "cell_type": "code",
      "metadata": {
        "id": "OSR2lhoB_Hzd"
      },
      "source": [
        "def sub(A,B):\n",
        "  if A > B:\n",
        "    return(A-B)\n",
        "  else:\n",
        "    return(B-A)"
      ],
      "execution_count": null,
      "outputs": []
    },
    {
      "cell_type": "code",
      "metadata": {
        "colab": {
          "base_uri": "https://localhost:8080/"
        },
        "id": "2YwsznRP_bgY",
        "outputId": "eab61fde-3fc3-4cc5-d3e2-e63e60d3dd7e"
      },
      "source": [
        "sub(6,8)"
      ],
      "execution_count": null,
      "outputs": [
        {
          "output_type": "execute_result",
          "data": {
            "text/plain": [
              "2"
            ]
          },
          "metadata": {
            "tags": []
          },
          "execution_count": 101
        }
      ]
    },
    {
      "cell_type": "code",
      "metadata": {
        "id": "OYfS61KT_e9x"
      },
      "source": [
        "# Decorators\n",
        "\n",
        "def sub(a,b):\n",
        "  print(a-b)\n",
        "\n",
        "def sub_1(fun):\n",
        "  def inner(a,b):\n",
        "    if  a < b:\n",
        "      a, b = b, a\n",
        "    fun(a,b)\n",
        "  return inner\n",
        "\n",
        "sub = sub_1(sub)"
      ],
      "execution_count": null,
      "outputs": []
    },
    {
      "cell_type": "code",
      "metadata": {
        "colab": {
          "base_uri": "https://localhost:8080/"
        },
        "id": "TfP7OBHOAS8L",
        "outputId": "b8fbbb1e-d6a2-45dc-a236-71f3e523b71f"
      },
      "source": [
        "sub(6,15)"
      ],
      "execution_count": null,
      "outputs": [
        {
          "output_type": "stream",
          "text": [
            "9\n"
          ],
          "name": "stdout"
        }
      ]
    },
    {
      "cell_type": "code",
      "metadata": {
        "colab": {
          "base_uri": "https://localhost:8080/"
        },
        "id": "LOVZvfE8AXzZ",
        "outputId": "77f6d9c7-bda4-4b5d-b1ce-9470972f589d"
      },
      "source": [
        "print(type(\"@\"))"
      ],
      "execution_count": null,
      "outputs": [
        {
          "output_type": "stream",
          "text": [
            "<class 'str'>\n"
          ],
          "name": "stdout"
        }
      ]
    },
    {
      "cell_type": "code",
      "metadata": {
        "id": "D5ztEK9_E2BZ"
      },
      "source": [
        "# Assigment_3\n",
        "\n",
        "Person =  [1,2,3,4,5]\n",
        "O = [1,2,3,4,0]\n",
        "\n",
        "Person = [Person[i] for i in O]"
      ],
      "execution_count": null,
      "outputs": []
    },
    {
      "cell_type": "code",
      "metadata": {
        "colab": {
          "base_uri": "https://localhost:8080/"
        },
        "id": "nbXJ2XRwGvzu",
        "outputId": "7c3f8402-63d7-4e0d-f53a-0f2833b03271"
      },
      "source": [
        "Person"
      ],
      "execution_count": null,
      "outputs": [
        {
          "output_type": "execute_result",
          "data": {
            "text/plain": [
              "[2, 3, 4, 5, 1]"
            ]
          },
          "metadata": {
            "tags": []
          },
          "execution_count": 137
        }
      ]
    },
    {
      "cell_type": "markdown",
      "metadata": {
        "id": "ZNNa1oV9AMlb"
      },
      "source": [
        "### DAY 4"
      ]
    },
    {
      "cell_type": "code",
      "metadata": {
        "colab": {
          "base_uri": "https://localhost:8080/"
        },
        "id": "-saOgHAgAPm6",
        "outputId": "02ce70ca-0e94-478c-93e5-52c3a0064bee"
      },
      "source": [
        "# Word 2 Word\n",
        "!pip install word2word"
      ],
      "execution_count": null,
      "outputs": [
        {
          "output_type": "stream",
          "text": [
            "Requirement already satisfied: word2word in /usr/local/lib/python3.7/dist-packages (1.0.0)\n",
            "Requirement already satisfied: requests in /usr/local/lib/python3.7/dist-packages (from word2word) (2.23.0)\n",
            "Requirement already satisfied: numpy in /usr/local/lib/python3.7/dist-packages (from word2word) (1.19.5)\n",
            "Requirement already satisfied: wget in /usr/local/lib/python3.7/dist-packages (from word2word) (3.2)\n",
            "Requirement already satisfied: tqdm in /usr/local/lib/python3.7/dist-packages (from word2word) (4.41.1)\n",
            "Requirement already satisfied: certifi>=2017.4.17 in /usr/local/lib/python3.7/dist-packages (from requests->word2word) (2021.5.30)\n",
            "Requirement already satisfied: urllib3!=1.25.0,!=1.25.1,<1.26,>=1.21.1 in /usr/local/lib/python3.7/dist-packages (from requests->word2word) (1.24.3)\n",
            "Requirement already satisfied: idna<3,>=2.5 in /usr/local/lib/python3.7/dist-packages (from requests->word2word) (2.10)\n",
            "Requirement already satisfied: chardet<4,>=3.0.2 in /usr/local/lib/python3.7/dist-packages (from requests->word2word) (3.0.4)\n"
          ],
          "name": "stdout"
        }
      ]
    },
    {
      "cell_type": "code",
      "metadata": {
        "colab": {
          "base_uri": "https://localhost:8080/"
        },
        "id": "k3kEQDTnDNlX",
        "outputId": "63c261d1-418a-4947-c05f-2203016f8b05"
      },
      "source": [
        "from word2word import Word2word\n",
        "en2fr = Word2word(\"en\", \"bn\")\n",
        "print(en2fr(\"home\"))"
      ],
      "execution_count": null,
      "outputs": [
        {
          "output_type": "stream",
          "text": [
            "['বাড়ি', 'বাসায়', 'বাড়িতে', 'ঘরে', 'বাড়িতে']\n"
          ],
          "name": "stdout"
        }
      ]
    },
    {
      "cell_type": "code",
      "metadata": {
        "colab": {
          "base_uri": "https://localhost:8080/"
        },
        "id": "E1JfffdIDo8_",
        "outputId": "25cbd991-3f27-4593-d26f-956eafb2d561"
      },
      "source": [
        "# Marvel\n",
        "!pip install marvelous"
      ],
      "execution_count": null,
      "outputs": [
        {
          "output_type": "stream",
          "text": [
            "Requirement already satisfied: marvelous in /usr/local/lib/python3.7/dist-packages (1.4.1)\n",
            "Requirement already satisfied: marshmallow in /usr/local/lib/python3.7/dist-packages (from marvelous) (3.13.0)\n",
            "Requirement already satisfied: requests in /usr/local/lib/python3.7/dist-packages (from marvelous) (2.23.0)\n",
            "Requirement already satisfied: urllib3!=1.25.0,!=1.25.1,<1.26,>=1.21.1 in /usr/local/lib/python3.7/dist-packages (from requests->marvelous) (1.24.3)\n",
            "Requirement already satisfied: certifi>=2017.4.17 in /usr/local/lib/python3.7/dist-packages (from requests->marvelous) (2021.5.30)\n",
            "Requirement already satisfied: chardet<4,>=3.0.2 in /usr/local/lib/python3.7/dist-packages (from requests->marvelous) (3.0.4)\n",
            "Requirement already satisfied: idna<3,>=2.5 in /usr/local/lib/python3.7/dist-packages (from requests->marvelous) (2.10)\n"
          ],
          "name": "stdout"
        }
      ]
    },
    {
      "cell_type": "code",
      "metadata": {
        "colab": {
          "base_uri": "https://localhost:8080/"
        },
        "id": "6HFOR1oLEbZ4",
        "outputId": "e35c0999-93aa-4f42-eb5e-96bec050b969"
      },
      "source": [
        "import marvelous\n",
        "\n",
        "# Authenticate with Marvel, with keys I got from http://developer.marvel.com/\n",
        "m = marvelous.api(\"66f4b44634dc64094b7a00af36db7f36\", \"6d8be83b6830810f869b170e87215c11d5b814a4\")\n",
        "\n",
        "# Get all comics from this week, sorted alphabetically by title\n",
        "pulls = sorted(m.comics({\n",
        "    'format': \"comic\",\n",
        "    'formatType': \"comic\",\n",
        "    'noVariants': True,\n",
        "    'dateDescriptor': \"thisWeek\",\n",
        "    'limit': 100}),\n",
        "    key=lambda comic: comic.title)\n",
        "\n",
        "for comic in pulls:\n",
        "    # Write a line to the file with the name of the issue, and the\n",
        "    # id of the series\n",
        "    print('{} (series #{})'.format(comic.title, comic.series.id))"
      ],
      "execution_count": null,
      "outputs": [
        {
          "output_type": "stream",
          "text": [
            "Amazing Fantasy (2021) #1 (series #25984)\n",
            "Avengers Mech Strike (2021) #5 (series #31307)\n",
            "Beta Ray Bill (2021) #5 (series #31371)\n",
            "Black Cat (2020) #8 (series #31322)\n",
            "Black Knight: Curse of the Ebony Blade (2021) #5 (series #31811)\n",
            "Black Widow (2020) #9 (series #29700)\n",
            "Cable (2020) #12 (series #28038)\n",
            "Daredevil (2019) #32 (series #26080)\n",
            "Eternals (2021) #6 (series #30146)\n",
            "Fantastic Four (2018) #34 (series #24554)\n",
            "S.W.O.R.D. (2020) #7 (series #31083)\n",
            "Shang-Chi (2021) #3 (series #31902)\n",
            "Star Wars (2020) #15 (series #28372)\n",
            "Star Wars: The High Republic (2021) #7 (series #31084)\n",
            "Symbiote Spider-Man: Crossroads (2021) #1 (series #31391)\n",
            "The Amazing Spider-Man (2018) #71 (series #24396)\n",
            "The Mighty Valkyries (2021) #4 (series #31903)\n",
            "The United States of Captain America (2021) #2 (series #31896)\n",
            "Wolverine (2020) #14 (series #28051)\n"
          ],
          "name": "stdout"
        }
      ]
    },
    {
      "cell_type": "code",
      "metadata": {
        "colab": {
          "base_uri": "https://localhost:8080/"
        },
        "id": "Dy5wZ-9iFfwW",
        "outputId": "ba60f279-2418-4525-d177-51c35ba4f747"
      },
      "source": [
        "#  Celsius to Fahrenheit\n",
        "\n",
        "Celsius = int(input(\"Enter your temparature in Celsius -\"))\n",
        "\n",
        "Fahrenheit = ((Celsius * 9/5)+32)\n",
        "\n",
        "print(\"Your Temparature converted to Fahrenheit\")\n",
        "print(\"Fahrenheit -\",Fahrenheit)"
      ],
      "execution_count": null,
      "outputs": [
        {
          "output_type": "stream",
          "text": [
            "Enter your temparature in Celsius -0\n",
            "Your Temparature converted to Fahrenheit\n",
            "Fahrenheit - 32.0\n"
          ],
          "name": "stdout"
        }
      ]
    },
    {
      "cell_type": "code",
      "metadata": {
        "id": "mTKE8K02IPhU"
      },
      "source": [
        ""
      ],
      "execution_count": null,
      "outputs": []
    }
  ]
}