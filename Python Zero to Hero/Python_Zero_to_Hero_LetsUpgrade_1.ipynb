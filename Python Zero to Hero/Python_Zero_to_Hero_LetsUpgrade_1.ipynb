{
  "nbformat": 4,
  "nbformat_minor": 0,
  "metadata": {
    "colab": {
      "name": "Python Zero to Hero_LetsUpgrade_1",
      "provenance": [],
      "collapsed_sections": []
    },
    "kernelspec": {
      "name": "python3",
      "display_name": "Python 3"
    },
    "language_info": {
      "name": "python"
    }
  },
  "cells": [
    {
      "cell_type": "markdown",
      "metadata": {
        "id": "bAa41FSd6afS"
      },
      "source": [
        "## LetsUpgrade\n",
        "# Python Zero to Hero \n",
        "## Assignments"
      ]
    },
    {
      "cell_type": "markdown",
      "metadata": {
        "id": "vDRnZ5_0vp7P"
      },
      "source": [
        "Hey you are a chemist from India and you work with degree celsius in your day to day life but due to a project your company had collaborated with a MNC company, where the chemists use degree frainite for their purposes, and to maintain collaboration consistent we want to have a easy degree conversion, \n",
        "\n",
        "Please develop a python based degree converter which takes °C value and give you output of °F "
      ]
    },
    {
      "cell_type": "code",
      "metadata": {
        "id": "xu0k2Z9o616a",
        "colab": {
          "base_uri": "https://localhost:8080/"
        },
        "outputId": "41d1e8f0-eb28-4574-a8bf-2f32ddcf64eb"
      },
      "source": [
        "# Assigment\n",
        "#  Celsius to Fahrenheit\n",
        "\n",
        "Celsius = int(input(\"Enter your temparature in Celsius -\"))\n",
        "\n",
        "Fahrenheit = ((Celsius * 9/5)+32)\n",
        "\n",
        "print(\"Your Temparature converted to Fahrenheit\")\n",
        "print(\"Fahrenheit -\",Fahrenheit)"
      ],
      "execution_count": 1,
      "outputs": [
        {
          "output_type": "stream",
          "text": [
            "Enter your temparature in Celsius -50\n",
            "Your Temparature converted to Fahrenheit\n",
            "Fahrenheit - 122.0\n"
          ],
          "name": "stdout"
        }
      ]
    },
    {
      "cell_type": "code",
      "metadata": {
        "colab": {
          "base_uri": "https://localhost:8080/"
        },
        "id": "B0xZFG4A6Qha",
        "outputId": "7d44ace9-bab0-4eec-a986-86c33f47bf98"
      },
      "source": [
        "# Assigment_1 - Remove all occurrences of an element from a list\n",
        "\n",
        "\n",
        "def remove_items(test_list, item):\n",
        "      \n",
        "    # using list comprehension to perform the task\n",
        "    res = [i for i in test_list if i != item]\n",
        "  \n",
        "    return res\n",
        "  \n",
        "# driver code\n",
        "if __name__==\"__main__\":\n",
        "      \n",
        "    # initializing the list\n",
        "    test_list = [1, 3, 4, 6, 5, 1]\n",
        "  \n",
        "    # the item which is to be removed\n",
        "    item = 1\n",
        "  \n",
        "    # printing the original list\n",
        "    print (\"The original list is : \" + str(test_list))\n",
        "  \n",
        "    # calling the function remove_items()\n",
        "    res = remove_items(test_list, item)\n",
        "  \n",
        "    # printing result\n",
        "    print (\"The list after performing the remove operation is : \" + str(res))"
      ],
      "execution_count": null,
      "outputs": [
        {
          "output_type": "stream",
          "text": [
            "The original list is : [1, 3, 4, 6, 5, 1]\n",
            "The list after performing the remove operation is : [3, 4, 6, 5]\n"
          ],
          "name": "stdout"
        }
      ]
    },
    {
      "cell_type": "code",
      "metadata": {
        "colab": {
          "base_uri": "https://localhost:8080/"
        },
        "id": "Zykbu5o46um-",
        "outputId": "54a13a59-57e2-4f6b-e05b-592e51cd61ef"
      },
      "source": [
        "# Assigment_2 - Check whether a string is pangram\n",
        "# Check if the string is pangram\n",
        "import string\n",
        "  \n",
        "def ispangram(str):\n",
        "    alphabet = \"abcdefghijklmnopqrstuvwxyz\"\n",
        "    for char in alphabet:\n",
        "        if char not in str.lower():\n",
        "            return False\n",
        "  \n",
        "    return True\n",
        "      \n",
        "# Driver code\n",
        "string = 'the quick brown fox jumps over the lazy dog'\n",
        "if(ispangram(string) == True):\n",
        "    print(\"Yes\")\n",
        "else:\n",
        "    print(\"No\")"
      ],
      "execution_count": null,
      "outputs": [
        {
          "output_type": "stream",
          "text": [
            "Yes\n"
          ],
          "name": "stdout"
        }
      ]
    },
    {
      "cell_type": "code",
      "metadata": {
        "colab": {
          "base_uri": "https://localhost:8080/"
        },
        "id": "rn2_Yv_06xCF",
        "outputId": "a19315f4-1ec0-404d-a43a-e8f67136ade2"
      },
      "source": [
        "# Assigment_3\n",
        "\n",
        "Person =  [1,2,3,4,5]\n",
        "O = [1,2,3,4,0]\n",
        "\n",
        "Person = [Person[i] for i in O]\n",
        "\n",
        "Person"
      ],
      "execution_count": null,
      "outputs": [
        {
          "output_type": "execute_result",
          "data": {
            "text/plain": [
              "[2, 3, 4, 5, 1]"
            ]
          },
          "metadata": {
            "tags": []
          },
          "execution_count": 4
        }
      ]
    }
  ]
}